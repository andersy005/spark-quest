{
 "cells": [
  {
   "cell_type": "markdown",
   "metadata": {},
   "source": [
    "![](http://spark.apache.org/images/spark-logo.png) ![](https://upload.wikimedia.org/wikipedia/commons/f/f8/Python_logo_and_wordmark.svg)"
   ]
  },
  {
   "cell_type": "code",
   "execution_count": 1,
   "metadata": {
    "collapsed": false
   },
   "outputs": [
    {
     "data": {
      "application/javascript": [
       "IPython.notebook.set_autosave_interval(10000)"
      ]
     },
     "metadata": {},
     "output_type": "display_data"
    },
    {
     "name": "stdout",
     "output_type": "stream",
     "text": [
      "Autosaving every 10 seconds\n"
     ]
    }
   ],
   "source": [
    "%autosave 10"
   ]
  },
  {
   "cell_type": "markdown",
   "metadata": {},
   "source": [
    "# MLlib: Basic Statistics and Exploratory Data Analysis\n",
    "[MLlib](https://spark.apache.org/docs/latest/mllib-guide.html) is Spark's machine learning library."
   ]
  },
  {
   "cell_type": "code",
   "execution_count": 3,
   "metadata": {
    "collapsed": true
   },
   "outputs": [],
   "source": [
    "# Import Packages\n",
    "import numpy as np\n",
    "from pyspark.mllib.stat import Statistics \n",
    "from math import sqrt \n"
   ]
  },
  {
   "cell_type": "code",
   "execution_count": 2,
   "metadata": {
    "collapsed": true
   },
   "outputs": [],
   "source": [
    "# Getting the data and creating the RDD\n",
    "data_file = \"./kddcup.data_10_percent.gz\"\n",
    "raw_data = sc.textFile(data_file)"
   ]
  },
  {
   "cell_type": "markdown",
   "metadata": {},
   "source": [
    "\n",
    "# Local vectors\n",
    "A [local vector](https://spark.apache.org/docs/latest/mllib-data-types.html#local-vector) is often used as a base type for RDDs in Spark MLlib. A local vector has integer-typed and 0-based indices and double-typed values, stored on a single machine. MLlib supports two types of local vectors: dense and sparse. A dense vector is backed by a double array representing its entry values, while a sparse vector is backed by two parallel arrays: indices and values.\n",
    "\n",
    "\n",
    "For dense vectors, MLlib uses either Python lists or the NumPy array type. The later is recommended, so you can simply pass NumPy arrays around.\n",
    "\n",
    "\n",
    "For sparse vectors, users can construct a SparseVector object from MLlib or pass SciPy scipy.sparse column vectors if SciPy is available in their environment. The easiest way to create sparse vectors is to use the factory methods implemented in Vectors.\n",
    "\n",
    "\n",
    "# An RDD of dense vectors\n",
    "Let's represent each network interaction in our dataset as a dense vector. For that we will use the NumPy array type.\n"
   ]
  },
  {
   "cell_type": "code",
   "execution_count": 4,
   "metadata": {
    "collapsed": true
   },
   "outputs": [],
   "source": [
    "def parse_interaction(line):\n",
    "    line_split = line.split(\",\")\n",
    "    # keep just numeric and logical values\n",
    "    symbolic_indices = [1,2,3,41]\n",
    "    clean_line_split = [item for i, item in enumerate(line_split)\n",
    "                              if i not in symbolic_indices]\n",
    "    return np.array([float(x) for x in clean_line_split])"
   ]
  },
  {
   "cell_type": "code",
   "execution_count": 5,
   "metadata": {
    "collapsed": true
   },
   "outputs": [],
   "source": [
    "vector_data = raw_data.map(parse_interaction)"
   ]
  },
  {
   "cell_type": "markdown",
   "metadata": {},
   "source": [
    "\n",
    "# Summary statistics\n",
    "Spark's MLlib provides column summary statistics for ```RDD[Vector]``` through the function ```colStats``` available in Statistics. The method returns an instance of [```MultivariateStatisticalSummary```](https://spark.apache.org/docs/latest/api/python/pyspark.mllib.html#pyspark.mllib.stat.MultivariateStatisticalSummary), which contains the column-wise max, min, mean, variance, and number of nonzeros, as well as the total count."
   ]
  },
  {
   "cell_type": "code",
   "execution_count": 6,
   "metadata": {
    "collapsed": true
   },
   "outputs": [],
   "source": [
    "# Compute column summary statistics.\n",
    "summary = Statistics.colStats(vector_data)"
   ]
  },
  {
   "cell_type": "code",
   "execution_count": 7,
   "metadata": {
    "collapsed": false
   },
   "outputs": [
    {
     "name": "stdout",
     "output_type": "stream",
     "text": [
      "Duration Statistics:\n",
      " Mean: 47.979\n",
      " St. deviation: 707.746\n",
      " Max value: 58329.0\n",
      " Min value: 0.0\n",
      " Total value count: 494021\n",
      " Number of non-zero values: 12350.0\n"
     ]
    }
   ],
   "source": [
    "print \"Duration Statistics:\"\n",
    "print \" Mean: {}\".format(round(summary.mean()[0],3))\n",
    "print \" St. deviation: {}\".format(round(sqrt(summary.variance()[0]),3))\n",
    "print \" Max value: {}\".format(round(summary.max()[0],3))\n",
    "print \" Min value: {}\".format(round(summary.min()[0],3))\n",
    "print \" Total value count: {}\".format(summary.count())\n",
    "print \" Number of non-zero values: {}\".format(summary.numNonzeros()[0])"
   ]
  },
  {
   "cell_type": "markdown",
   "metadata": {},
   "source": [
    "# Summary statistics by label\n",
    "\n",
    "The interesting part of summary statistics, in our case, comes from being able to obtain them by the type of network attack or 'label' in our dataset. By doing so we will be able to better characterise our dataset dependent variable in terms of the independent variables range of values.\n",
    "\n",
    "\n",
    "If we want to do such a thing we could filter our RDD containing labels as keys and vectors as values. For that we just need to adapt our parse_interaction function to return a tuple with both elements."
   ]
  },
  {
   "cell_type": "code",
   "execution_count": 8,
   "metadata": {
    "collapsed": true
   },
   "outputs": [],
   "source": [
    "def parse_interaction_with_key(line):\n",
    "    line_split = line.split(\",\")\n",
    "    # keep just numeric and logical values\n",
    "    symbolic_indices = [1,2,3,41]\n",
    "    clean_line_split = [item for i, item in enumerate(line_split)\n",
    "                              if i not in symbolic_indices]\n",
    "    return (line_split[41], np.array([float(x) for x in clean_line_split]))"
   ]
  },
  {
   "cell_type": "code",
   "execution_count": 9,
   "metadata": {
    "collapsed": true
   },
   "outputs": [],
   "source": [
    "label_vector_data = raw_data.map(parse_interaction_with_key)"
   ]
  },
  {
   "cell_type": "markdown",
   "metadata": {},
   "source": [
    "The next step is not very sophisticated. We use filter on the RDD to leave out other labels but the one we want to gather statistics from."
   ]
  },
  {
   "cell_type": "code",
   "execution_count": 10,
   "metadata": {
    "collapsed": true
   },
   "outputs": [],
   "source": [
    "normal_label_data = label_vector_data.filter(lambda x: x[0]==\"normal.\")"
   ]
  },
  {
   "cell_type": "markdown",
   "metadata": {},
   "source": [
    "\n",
    "Now we can use the new RDD to call ```colStats``` on the values."
   ]
  },
  {
   "cell_type": "code",
   "execution_count": 11,
   "metadata": {
    "collapsed": true
   },
   "outputs": [],
   "source": [
    "normal_summary = Statistics.colStats(normal_label_data.values())"
   ]
  },
  {
   "cell_type": "code",
   "execution_count": 12,
   "metadata": {
    "collapsed": false
   },
   "outputs": [
    {
     "name": "stdout",
     "output_type": "stream",
     "text": [
      "Duration Statistics for label: normal\n",
      " Mean: 216.657322313\n",
      " St. deviation: 1359.213\n",
      " Max value: 58329.0\n",
      " Min value: 0.0\n",
      " Total value count: 97278\n",
      " Number of non-zero values: 11690.0\n"
     ]
    }
   ],
   "source": [
    "print \"Duration Statistics for label: {}\".format(\"normal\")\n",
    "print \" Mean: {}\".format(normal_summary.mean()[0],3)\n",
    "print \" St. deviation: {}\".format(round(sqrt(normal_summary.variance()[0]),3))\n",
    "print \" Max value: {}\".format(round(normal_summary.max()[0],3))\n",
    "print \" Min value: {}\".format(round(normal_summary.min()[0],3))\n",
    "print \" Total value count: {}\".format(normal_summary.count())\n",
    "print \" Number of non-zero values: {}\".format(normal_summary.numNonzeros()[0])"
   ]
  },
  {
   "cell_type": "markdown",
   "metadata": {},
   "source": [
    "Instead of working with a key/value pair we could have just filter our raw data split using the label in column 41. Then we can parse the results as we did before. This will work as well. However having our data organised as key/value pairs will open the door to better manipulations. Since values() is a transformation on an RDD, and not an action, we don't perform any computation until we call colStats anyway.\n",
    "\n",
    "But lets wrap this within a function so we can reuse it with any label."
   ]
  },
  {
   "cell_type": "code",
   "execution_count": 13,
   "metadata": {
    "collapsed": true
   },
   "outputs": [],
   "source": [
    "def summary_by_label(raw_data, label):\n",
    "    label_vector_data = raw_data.map(parse_interaction_with_key).filter(lambda x: x[0]==label)\n",
    "    return Statistics.colStats(label_vector_data.values())"
   ]
  },
  {
   "cell_type": "code",
   "execution_count": 14,
   "metadata": {
    "collapsed": false
   },
   "outputs": [
    {
     "name": "stdout",
     "output_type": "stream",
     "text": [
      "Duration Statistics for label: normal\n",
      " Mean: 216.657322313\n",
      " St. deviation: 1359.213\n",
      " Max value: 58329.0\n",
      " Min value: 0.0\n",
      " Total value count: 97278\n",
      " Number of non-zero values: 11690.0\n"
     ]
    }
   ],
   "source": [
    "normal_sum = summary_by_label(raw_data, \"normal.\")\n",
    "\n",
    "print \"Duration Statistics for label: {}\".format(\"normal\")\n",
    "print \" Mean: {}\".format(normal_sum.mean()[0],3)\n",
    "print \" St. deviation: {}\".format(round(sqrt(normal_sum.variance()[0]),3))\n",
    "print \" Max value: {}\".format(round(normal_sum.max()[0],3))\n",
    "print \" Min value: {}\".format(round(normal_sum.min()[0],3))\n",
    "print \" Total value count: {}\".format(normal_sum.count())\n",
    "print \" Number of non-zero values: {}\".format(normal_sum.numNonzeros()[0])"
   ]
  },
  {
   "cell_type": "markdown",
   "metadata": {},
   "source": [
    "\n",
    "Let's try now with some network attack. We have all of them listed [here](http://kdd.ics.uci.edu/databases/kddcup99/training_attack_types).\n"
   ]
  },
  {
   "cell_type": "code",
   "execution_count": 17,
   "metadata": {
    "collapsed": true
   },
   "outputs": [],
   "source": [
    "def print_label_summary(labels):\n",
    "    for label in labels:\n",
    "        label_summary = summary_by_label(raw_data, label)\n",
    "        print \"Duration Statistics for label: {}\".format(label)\n",
    "        print \" Mean: {}\".format(label_summary.mean()[0],3)\n",
    "        print \" St. deviation: {}\".format(round(sqrt(label_summary.variance()[0]),3))\n",
    "        print \" Max value: {}\".format(round(label_summary.max()[0],3))\n",
    "        print \" Min value: {}\".format(round(label_summary.min()[0],3))\n",
    "        print \" Total value count: {}\".format(label_summary.count())\n",
    "        print \" Number of non-zero values: {}\".format(label_summary.numNonzeros()[0])\n",
    "        print \"\\n\\n######################################################\\n\\n\"        \n"
   ]
  },
  {
   "cell_type": "code",
   "execution_count": 18,
   "metadata": {
    "collapsed": false
   },
   "outputs": [
    {
     "name": "stdout",
     "output_type": "stream",
     "text": [
      "Duration Statistics for label: back.\n",
      " Mean: 0.128915115751\n",
      " St. deviation: 1.11\n",
      " Max value: 14.0\n",
      " Min value: 0.0\n",
      " Total value count: 2203\n",
      " Number of non-zero values: 40.0\n",
      "\n",
      "\n",
      "######################################################\n",
      "\n",
      "\n",
      "Duration Statistics for label: buffer_overflow.\n",
      " Mean: 91.7\n",
      " St. deviation: 97.515\n",
      " Max value: 321.0\n",
      " Min value: 0.0\n",
      " Total value count: 30\n",
      " Number of non-zero values: 22.0\n",
      "\n",
      "\n",
      "######################################################\n",
      "\n",
      "\n"
     ]
    }
   ],
   "source": [
    "labels = [\"back.\", \"buffer_overflow.\"]\n",
    "print_label_summary(labels)"
   ]
  },
  {
   "cell_type": "markdown",
   "metadata": {},
   "source": [
    "We could build a table with duration statistics for each type of interaction in our dataset. First we need to get a list of labels as described in the first line [here](http://kdd.ics.uci.edu/databases/kddcup99/kddcup.names)."
   ]
  },
  {
   "cell_type": "code",
   "execution_count": 19,
   "metadata": {
    "collapsed": true
   },
   "outputs": [],
   "source": [
    "label_list = [\"back.\",\"buffer_overflow.\",\"ftp_write.\",\"guess_passwd.\",\n",
    "              \"imap.\",\"ipsweep.\",\"land.\",\"loadmodule.\",\"multihop.\",\n",
    "              \"neptune.\",\"nmap.\",\"normal.\",\"perl.\",\"phf.\",\"pod.\",\"portsweep.\",\n",
    "              \"rootkit.\",\"satan.\",\"smurf.\",\"spy.\",\"teardrop.\",\"warezclient.\",\n",
    "              \"warezmaster.\"]"
   ]
  },
  {
   "cell_type": "markdown",
   "metadata": {},
   "source": [
    "Then we get a list of statistics for each label."
   ]
  },
  {
   "cell_type": "code",
   "execution_count": 20,
   "metadata": {
    "collapsed": true
   },
   "outputs": [],
   "source": [
    "stats_by_label = [(label, summary_by_label(raw_data, label)) for label in label_list]"
   ]
  },
  {
   "cell_type": "markdown",
   "metadata": {},
   "source": [
    "Now we get the duration column, first in our dataset (i.e. index 0)."
   ]
  },
  {
   "cell_type": "code",
   "execution_count": 21,
   "metadata": {
    "collapsed": true
   },
   "outputs": [],
   "source": [
    "duration_by_label = [ \n",
    "    (stat[0], np.array([float(stat[1].mean()[0]), float(sqrt(stat[1].variance()[0])), float(stat[1].min()[0]), float(stat[1].max()[0]), int(stat[1].count())])) \n",
    "    for stat in stats_by_label]"
   ]
  },
  {
   "cell_type": "markdown",
   "metadata": {},
   "source": [
    "That we can put into a Pandas data frame."
   ]
  },
  {
   "cell_type": "code",
   "execution_count": 22,
   "metadata": {
    "collapsed": true
   },
   "outputs": [],
   "source": [
    "import pandas as pd\n",
    "pd.set_option('display.max_columns', 50)\n",
    "\n",
    "stats_by_label_df = pd.DataFrame.from_items(duration_by_label, columns=[\"Mean\", \"Std Dev\", \"Min\", \"Max\", \"Count\"], orient='index')"
   ]
  },
  {
   "cell_type": "code",
   "execution_count": 23,
   "metadata": {
    "collapsed": false
   },
   "outputs": [
    {
     "name": "stdout",
     "output_type": "stream",
     "text": [
      "Duration statistics, by label\n"
     ]
    },
    {
     "data": {
      "text/html": [
       "<div>\n",
       "<table border=\"1\" class=\"dataframe\">\n",
       "  <thead>\n",
       "    <tr style=\"text-align: right;\">\n",
       "      <th></th>\n",
       "      <th>Mean</th>\n",
       "      <th>Std Dev</th>\n",
       "      <th>Min</th>\n",
       "      <th>Max</th>\n",
       "      <th>Count</th>\n",
       "    </tr>\n",
       "  </thead>\n",
       "  <tbody>\n",
       "    <tr>\n",
       "      <th>back.</th>\n",
       "      <td>0.128915</td>\n",
       "      <td>1.110062</td>\n",
       "      <td>0.0</td>\n",
       "      <td>14.0</td>\n",
       "      <td>2203.0</td>\n",
       "    </tr>\n",
       "    <tr>\n",
       "      <th>buffer_overflow.</th>\n",
       "      <td>91.700000</td>\n",
       "      <td>97.514685</td>\n",
       "      <td>0.0</td>\n",
       "      <td>321.0</td>\n",
       "      <td>30.0</td>\n",
       "    </tr>\n",
       "    <tr>\n",
       "      <th>ftp_write.</th>\n",
       "      <td>32.375000</td>\n",
       "      <td>47.449033</td>\n",
       "      <td>0.0</td>\n",
       "      <td>134.0</td>\n",
       "      <td>8.0</td>\n",
       "    </tr>\n",
       "    <tr>\n",
       "      <th>guess_passwd.</th>\n",
       "      <td>2.716981</td>\n",
       "      <td>11.879811</td>\n",
       "      <td>0.0</td>\n",
       "      <td>60.0</td>\n",
       "      <td>53.0</td>\n",
       "    </tr>\n",
       "    <tr>\n",
       "      <th>imap.</th>\n",
       "      <td>6.000000</td>\n",
       "      <td>14.174240</td>\n",
       "      <td>0.0</td>\n",
       "      <td>41.0</td>\n",
       "      <td>12.0</td>\n",
       "    </tr>\n",
       "    <tr>\n",
       "      <th>ipsweep.</th>\n",
       "      <td>0.034483</td>\n",
       "      <td>0.438439</td>\n",
       "      <td>0.0</td>\n",
       "      <td>7.0</td>\n",
       "      <td>1247.0</td>\n",
       "    </tr>\n",
       "    <tr>\n",
       "      <th>land.</th>\n",
       "      <td>0.000000</td>\n",
       "      <td>0.000000</td>\n",
       "      <td>0.0</td>\n",
       "      <td>0.0</td>\n",
       "      <td>21.0</td>\n",
       "    </tr>\n",
       "    <tr>\n",
       "      <th>loadmodule.</th>\n",
       "      <td>36.222222</td>\n",
       "      <td>41.408869</td>\n",
       "      <td>0.0</td>\n",
       "      <td>103.0</td>\n",
       "      <td>9.0</td>\n",
       "    </tr>\n",
       "    <tr>\n",
       "      <th>multihop.</th>\n",
       "      <td>184.000000</td>\n",
       "      <td>253.851006</td>\n",
       "      <td>0.0</td>\n",
       "      <td>718.0</td>\n",
       "      <td>7.0</td>\n",
       "    </tr>\n",
       "    <tr>\n",
       "      <th>neptune.</th>\n",
       "      <td>0.000000</td>\n",
       "      <td>0.000000</td>\n",
       "      <td>0.0</td>\n",
       "      <td>0.0</td>\n",
       "      <td>107201.0</td>\n",
       "    </tr>\n",
       "    <tr>\n",
       "      <th>nmap.</th>\n",
       "      <td>0.000000</td>\n",
       "      <td>0.000000</td>\n",
       "      <td>0.0</td>\n",
       "      <td>0.0</td>\n",
       "      <td>231.0</td>\n",
       "    </tr>\n",
       "    <tr>\n",
       "      <th>normal.</th>\n",
       "      <td>216.657322</td>\n",
       "      <td>1359.213469</td>\n",
       "      <td>0.0</td>\n",
       "      <td>58329.0</td>\n",
       "      <td>97278.0</td>\n",
       "    </tr>\n",
       "    <tr>\n",
       "      <th>perl.</th>\n",
       "      <td>41.333333</td>\n",
       "      <td>14.843629</td>\n",
       "      <td>25.0</td>\n",
       "      <td>54.0</td>\n",
       "      <td>3.0</td>\n",
       "    </tr>\n",
       "    <tr>\n",
       "      <th>phf.</th>\n",
       "      <td>4.500000</td>\n",
       "      <td>5.744563</td>\n",
       "      <td>0.0</td>\n",
       "      <td>12.0</td>\n",
       "      <td>4.0</td>\n",
       "    </tr>\n",
       "    <tr>\n",
       "      <th>pod.</th>\n",
       "      <td>0.000000</td>\n",
       "      <td>0.000000</td>\n",
       "      <td>0.0</td>\n",
       "      <td>0.0</td>\n",
       "      <td>264.0</td>\n",
       "    </tr>\n",
       "    <tr>\n",
       "      <th>portsweep.</th>\n",
       "      <td>1915.299038</td>\n",
       "      <td>7285.125159</td>\n",
       "      <td>0.0</td>\n",
       "      <td>42448.0</td>\n",
       "      <td>1040.0</td>\n",
       "    </tr>\n",
       "    <tr>\n",
       "      <th>rootkit.</th>\n",
       "      <td>100.800000</td>\n",
       "      <td>216.185003</td>\n",
       "      <td>0.0</td>\n",
       "      <td>708.0</td>\n",
       "      <td>10.0</td>\n",
       "    </tr>\n",
       "    <tr>\n",
       "      <th>satan.</th>\n",
       "      <td>0.040277</td>\n",
       "      <td>0.522433</td>\n",
       "      <td>0.0</td>\n",
       "      <td>11.0</td>\n",
       "      <td>1589.0</td>\n",
       "    </tr>\n",
       "    <tr>\n",
       "      <th>smurf.</th>\n",
       "      <td>0.000000</td>\n",
       "      <td>0.000000</td>\n",
       "      <td>0.0</td>\n",
       "      <td>0.0</td>\n",
       "      <td>280790.0</td>\n",
       "    </tr>\n",
       "    <tr>\n",
       "      <th>spy.</th>\n",
       "      <td>318.000000</td>\n",
       "      <td>26.870058</td>\n",
       "      <td>299.0</td>\n",
       "      <td>337.0</td>\n",
       "      <td>2.0</td>\n",
       "    </tr>\n",
       "    <tr>\n",
       "      <th>teardrop.</th>\n",
       "      <td>0.000000</td>\n",
       "      <td>0.000000</td>\n",
       "      <td>0.0</td>\n",
       "      <td>0.0</td>\n",
       "      <td>979.0</td>\n",
       "    </tr>\n",
       "    <tr>\n",
       "      <th>warezclient.</th>\n",
       "      <td>615.257843</td>\n",
       "      <td>2207.694966</td>\n",
       "      <td>0.0</td>\n",
       "      <td>15168.0</td>\n",
       "      <td>1020.0</td>\n",
       "    </tr>\n",
       "    <tr>\n",
       "      <th>warezmaster.</th>\n",
       "      <td>15.050000</td>\n",
       "      <td>33.385271</td>\n",
       "      <td>0.0</td>\n",
       "      <td>156.0</td>\n",
       "      <td>20.0</td>\n",
       "    </tr>\n",
       "  </tbody>\n",
       "</table>\n",
       "</div>"
      ],
      "text/plain": [
       "                         Mean      Std Dev    Min      Max     Count\n",
       "back.                0.128915     1.110062    0.0     14.0    2203.0\n",
       "buffer_overflow.    91.700000    97.514685    0.0    321.0      30.0\n",
       "ftp_write.          32.375000    47.449033    0.0    134.0       8.0\n",
       "guess_passwd.        2.716981    11.879811    0.0     60.0      53.0\n",
       "imap.                6.000000    14.174240    0.0     41.0      12.0\n",
       "ipsweep.             0.034483     0.438439    0.0      7.0    1247.0\n",
       "land.                0.000000     0.000000    0.0      0.0      21.0\n",
       "loadmodule.         36.222222    41.408869    0.0    103.0       9.0\n",
       "multihop.          184.000000   253.851006    0.0    718.0       7.0\n",
       "neptune.             0.000000     0.000000    0.0      0.0  107201.0\n",
       "nmap.                0.000000     0.000000    0.0      0.0     231.0\n",
       "normal.            216.657322  1359.213469    0.0  58329.0   97278.0\n",
       "perl.               41.333333    14.843629   25.0     54.0       3.0\n",
       "phf.                 4.500000     5.744563    0.0     12.0       4.0\n",
       "pod.                 0.000000     0.000000    0.0      0.0     264.0\n",
       "portsweep.        1915.299038  7285.125159    0.0  42448.0    1040.0\n",
       "rootkit.           100.800000   216.185003    0.0    708.0      10.0\n",
       "satan.               0.040277     0.522433    0.0     11.0    1589.0\n",
       "smurf.               0.000000     0.000000    0.0      0.0  280790.0\n",
       "spy.               318.000000    26.870058  299.0    337.0       2.0\n",
       "teardrop.            0.000000     0.000000    0.0      0.0     979.0\n",
       "warezclient.       615.257843  2207.694966    0.0  15168.0    1020.0\n",
       "warezmaster.        15.050000    33.385271    0.0    156.0      20.0"
      ]
     },
     "execution_count": 23,
     "metadata": {},
     "output_type": "execute_result"
    }
   ],
   "source": [
    "print \"Duration statistics, by label\"\n",
    "stats_by_label_df"
   ]
  }
 ],
 "metadata": {
  "kernelspec": {
   "display_name": "Python 2",
   "language": "python",
   "name": "python2"
  },
  "language_info": {
   "codemirror_mode": {
    "name": "ipython",
    "version": 2
   },
   "file_extension": ".py",
   "mimetype": "text/x-python",
   "name": "python",
   "nbconvert_exporter": "python",
   "pygments_lexer": "ipython2",
   "version": "2.7.12"
  },
  "widgets": {
   "state": {},
   "version": "1.1.2"
  }
 },
 "nbformat": 4,
 "nbformat_minor": 0
}
